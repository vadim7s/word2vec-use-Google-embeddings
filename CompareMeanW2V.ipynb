{
 "cells": [
  {
   "cell_type": "code",
   "execution_count": 4,
   "metadata": {},
   "outputs": [
    {
     "name": "stdout",
     "output_type": "stream",
     "text": [
      "/home/vadim/Desktop/PythonWorks/word2vec-use-Google-embeddings\n"
     ]
    }
   ],
   "source": [
    "# This code is to test how to use pre-treained w2v models when averaging vectors over short text\n",
    "# Idea: for sentiment analysis - create 2 examples of positive and negative responses and see how they score \n",
    "# aganinst some baseline points which are just a collection of positive and negative words\n",
    "\n",
    "import gensim\n",
    "import numpy as np\n",
    "import scipy\n",
    "import nltk\n",
    "nltk.download('stopwords')\n",
    "model = gensim.models.KeyedVectors.load_word2vec_format('GoogleNews-vectors-negative300.bin', binary=True) "
   ]
  },
  {
   "cell_type": "code",
   "execution_count": null,
   "metadata": {},
   "outputs": [],
   "source": [
    "def w2v_mean(input_text, mdl):\n",
    "    vec = np.ndarray(shape=(1,300), dtype=float)\n",
    "    example_list = input_text.split()\n",
    "    example_list = [word for word in example_list if word.lower() not in nltk.corpus.stopwords.words('english')]\n",
    "    for word in example_list:\n",
    "        if word in mdl:\n",
    "            vec = np.vstack((vec,mdl[word]))\n",
    "    vec=vec[1:]  \n",
    "    return np.mean(vec,axis=0)\n",
    "#pick examples of what constitutes good and bad\n",
    "good = w2v_mean('satisfied happy great nice yummy',model)\n",
    "bad = w2v_mean('disappointed bad unhappy terrible poor difficult',model)\n",
    "\n",
    "#now pick examples you need to score in relation to good and bad\n",
    "#positive\n",
    "pos_vector=w2v_mean('I was very happy with the service provided and all staff were very friendly',model)\n",
    "\n",
    "#negative\n",
    "neg_vector=w2v_mean('Nobody listened to what I wanted and I had a terrible experience',model)  \n",
    "\n",
    "\n",
    "# calculate distances between your averaged examples and the good and bad\n",
    "pos_to_good = scipy.spatial.distance.cosine(pos_vector,good)\n",
    "pos_to_bad = scipy.spatial.distance.cosine(pos_vector,bad)\n",
    "\n",
    "neg_to_bad = scipy.spatial.distance.cosine(neg_vector,bad)\n",
    "neg_to_good = scipy.spatial.distance.cosine(neg_vector,good)\n",
    "\n",
    "\n",
    "#report results\n",
    "print('positivity score',pos_to_bad/(pos_to_good+pos_to_bad), 'pos to good:',pos_to_good, 'pos to bad:', pos_to_bad)\n",
    "\n",
    "print('negativity score',neg_to_good/(neg_to_good+neg_to_bad), 'neg to bad:',neg_to_bad, 'neg to good:', neg_to_good)\n",
    "\n"
   ]
  }
 ],
 "metadata": {
  "kernelspec": {
   "display_name": "Python 3",
   "language": "python",
   "name": "python3"
  },
  "language_info": {
   "codemirror_mode": {
    "name": "ipython",
    "version": 3
   },
   "file_extension": ".py",
   "mimetype": "text/x-python",
   "name": "python",
   "nbconvert_exporter": "python",
   "pygments_lexer": "ipython3",
   "version": "3.5.2"
  }
 },
 "nbformat": 4,
 "nbformat_minor": 2
}
