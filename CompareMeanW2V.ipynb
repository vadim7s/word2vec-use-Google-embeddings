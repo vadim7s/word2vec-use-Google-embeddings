{
 "cells": [
  {
   "cell_type": "code",
   "execution_count": 3,
   "metadata": {},
   "outputs": [],
   "source": [
    "# This code is to test how to use pre-treained w2v models when averaging vectors over short text\n",
    "# Idea: e.g. for sentiment analysis - create 2 examples of positive and negative responses and see how they score \n",
    "# aganinst some baseline points which are just a collection of positive and negative words\n",
    "\n",
    "import gensim\n",
    "import numpy as np\n",
    "import scipy\n",
    "import nltk\n",
    "#nltk.download('stopwords')\n",
    "model = gensim.models.KeyedVectors.load_word2vec_format('~/Desktop/PythonWorks/GoogleNews-vectors-negative300.bin', binary=True) "
   ]
  },
  {
   "cell_type": "code",
   "execution_count": 4,
   "metadata": {},
   "outputs": [],
   "source": [
    "#define a function to get vectors for all words in a text and average it into one\n",
    "def w2v_mean(input_text, mdl):\n",
    "    vec = np.ndarray(shape=(1,300), dtype=float)\n",
    "    example_list = input_text.split()\n",
    "    example_list = [word for word in example_list if word.lower() not in nltk.corpus.stopwords.words('english')]\n",
    "    for word in example_list:\n",
    "        if word in mdl:\n",
    "            vec = np.vstack((vec,mdl[word]))\n",
    "    vec=vec[1:]  \n",
    "    return np.mean(vec,axis=0)"
   ]
  },
  {
   "cell_type": "code",
   "execution_count": null,
   "metadata": {},
   "outputs": [],
   "source": [
    "#pick examples of what constitutes good and bad\n",
    "good = w2v_mean('satisfied happy great nice yummy',model)\n",
    "bad = w2v_mean('disappointed bad unhappy terrible poor difficult',model)\n",
    "\n",
    "#now pick examples you need to score in relation to good and bad\n",
    "#positive\n",
    "pos_vector=w2v_mean('I was very happy with the service provided and all staff were very friendly',model)\n",
    "\n",
    "#negative\n",
    "neg_vector=w2v_mean('Nobody listened to what I wanted and I had a terrible experience',model)  \n",
    "\n",
    "# calculate distances between your averaged examples and the good and bad\n",
    "pos_to_good = scipy.spatial.distance.cosine(pos_vector,good)\n",
    "pos_to_bad = scipy.spatial.distance.cosine(pos_vector,bad)\n",
    "neg_to_bad = scipy.spatial.distance.cosine(neg_vector,bad)\n",
    "neg_to_good = scipy.spatial.distance.cosine(neg_vector,good)\n",
    "\n",
    "#report results\n",
    "print('positivity score',pos_to_bad/(pos_to_good+pos_to_bad), 'pos to good:',pos_to_good, 'pos to bad:', pos_to_bad)\n",
    "print('negativity score',neg_to_good/(neg_to_good+neg_to_bad), 'neg to bad:',neg_to_bad, 'neg to good:', neg_to_good)\n",
    "\n"
   ]
  },
  {
   "cell_type": "code",
   "execution_count": 9,
   "metadata": {},
   "outputs": [
    {
     "data": {
      "text/plain": [
       "[('dissapointing', 0.6640759110450745),\n",
       " ('bad', 0.6604508757591248),\n",
       " ('good', 0.6072148680686951),\n",
       " ('crappy', 0.5609292387962341),\n",
       " ('GREG_POTTER_Yes', 0.5568892359733582),\n",
       " ('get', 0.5562930107116699),\n",
       " ('Kimi_RÄIKKÖNEN', 0.5540401339530945),\n",
       " ('disappointing', 0.5518868565559387),\n",
       " ('horrible', 0.5471026301383972),\n",
       " ('Felipe_MASSA', 0.5447595119476318)]"
      ]
     },
     "execution_count": 9,
     "metadata": {},
     "output_type": "execute_result"
    }
   ],
   "source": [
    "# now let's see how average over a senstence looks like\n",
    "# see what is most similar to an averaged vecor\n",
    "\n",
    "#example = w2v_mean('I and my friends were very satisfied with our experience of eating at this place',model)\n",
    "example = w2v_mean('It was very dissapointing to get such a bad service at this place',model)\n",
    "\n",
    "model.similar_by_vector(example)"
   ]
  },
  {
   "cell_type": "code",
   "execution_count": null,
   "metadata": {},
   "outputs": [],
   "source": []
  }
 ],
 "metadata": {
  "kernelspec": {
   "display_name": "Python 3",
   "language": "python",
   "name": "python3"
  },
  "language_info": {
   "codemirror_mode": {
    "name": "ipython",
    "version": 3
   },
   "file_extension": ".py",
   "mimetype": "text/x-python",
   "name": "python",
   "nbconvert_exporter": "python",
   "pygments_lexer": "ipython3",
   "version": "3.5.2"
  }
 },
 "nbformat": 4,
 "nbformat_minor": 2
}
